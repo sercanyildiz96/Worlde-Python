{
 "cells": [
  {
   "cell_type": "code",
   "execution_count": 2,
   "metadata": {
    "ExecuteTime": {
     "end_time": "2023-05-29T15:42:10.841770Z",
     "start_time": "2023-05-29T15:41:48.124130Z"
    }
   },
   "outputs": [
    {
     "name": "stdout",
     "output_type": "stream",
     "text": [
      "try a word great\n",
      "g gray\n",
      "r yellow\n",
      "e yellow\n",
      "a yellow\n",
      "t gray\n",
      "try a word spare\n",
      "s gray\n",
      "p gray\n",
      "a yellow\n",
      "r green\n",
      "e green\n",
      "try a word adore\n",
      "a green\n",
      "d gray\n",
      "o gray\n",
      "r green\n",
      "e green\n",
      "try a word aware\n",
      "a green\n",
      "w gray\n",
      "a yellow\n",
      "r green\n",
      "e green\n",
      "try a word azure\n",
      "a green\n",
      "z gray\n",
      "u gray\n",
      "r green\n",
      "e green\n",
      "try a word amore\n",
      "afire\n",
      "Would you like to play again? y to play again n\n"
     ]
    }
   ],
   "source": [
    "import random\n",
    "with open(\"wordle1.txt\", 'r', encoding='utf-8') as f:\n",
    "    data = f.read()\n",
    "    fives = data.split()\n",
    "play_again = 'y'\n",
    "while play_again.lower() == 'y':\n",
    "\n",
    "    word = random.choice(fives)\n",
    "    a = True\n",
    "    count = 0\n",
    "    while a:\n",
    "        i = input(\"try a word \")\n",
    "        if len(i) != 5:\n",
    "            continue\n",
    "        if i not in fives:\n",
    "            print(word, \"is not in list\")\n",
    "            continue\n",
    "        if i == word:\n",
    "            print(word + \" is true\")\n",
    "            a = False\n",
    "        elif i != word and count == 5:\n",
    "            print(word)\n",
    "            a = False\n",
    "        else:\n",
    "            for j in range(5):\n",
    "                if i[j] == word[j]:\n",
    "                    print(i[j]+\" green\")\n",
    "                elif i[j] in word:\n",
    "                    print(i[j] + \" yellow\")\n",
    "                else:\n",
    "                    print(i[j] + \" gray\")\n",
    "            count += 1\n",
    "    play_again = input('Would you like to play again? y to play again ')\n"
   ]
  },
  {
   "cell_type": "code",
   "execution_count": null,
   "metadata": {},
   "outputs": [],
   "source": []
  }
 ],
 "metadata": {
  "kernelspec": {
   "display_name": "Python 3 (ipykernel)",
   "language": "python",
   "name": "python3"
  },
  "language_info": {
   "codemirror_mode": {
    "name": "ipython",
    "version": 3
   },
   "file_extension": ".py",
   "mimetype": "text/x-python",
   "name": "python",
   "nbconvert_exporter": "python",
   "pygments_lexer": "ipython3",
   "version": "3.11.0"
  }
 },
 "nbformat": 4,
 "nbformat_minor": 1
}
