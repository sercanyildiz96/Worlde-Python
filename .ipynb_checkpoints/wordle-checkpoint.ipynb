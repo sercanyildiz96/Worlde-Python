{
 "cells": [
  {
   "cell_type": "code",
   "execution_count": null,
   "metadata": {
    "ExecuteTime": {
     "end_time": "2023-05-29T15:04:26.829069Z",
     "start_time": "2023-05-29T15:04:10.931395Z"
    }
   },
   "outputs": [
    {
     "name": "stdout",
     "output_type": "stream",
     "text": [
      "try great\n",
      "g gray\n",
      "r yellow\n",
      "e yellow\n",
      "a gray\n",
      "t yellow\n",
      "try store\n",
      "s gray\n",
      "t yellow\n",
      "o gray\n",
      "r yellow\n",
      "e yellow\n"
     ]
    }
   ],
   "source": [
    "import random\n",
    "with open(\"wordle1.txt\", 'r', encoding='utf-8') as f:\n",
    "    data = f.read()\n",
    "    fives = data.split()\n",
    "play_again = 'y'\n",
    "while play_again.lower() == 'y':\n",
    "\n",
    "    word = random.choice(fives)\n",
    "    a = True\n",
    "    count = 0\n",
    "    while a:\n",
    "        i = input(\"try \")\n",
    "        if len(i) != 5:\n",
    "            continue\n",
    "        if i not in fives:\n",
    "            print(\"not in list\")\n",
    "            continue\n",
    "        if i == word:\n",
    "            print(word + \" is true\")\n",
    "            a = False\n",
    "        elif i != word and count == 5:\n",
    "            print(word)\n",
    "            a = False\n",
    "        else:\n",
    "            for j in range(5):\n",
    "                if i[j] == word[j]:\n",
    "                    print(i[j]+\" green\")\n",
    "                elif i[j] in word:\n",
    "                    print(i[j] + \" yellow\")\n",
    "                else:\n",
    "                    print(i[j] + \" gray\")\n",
    "            count += 1\n",
    "    play_again = input('Would you like to play again? y to play again')\n"
   ]
  },
  {
   "cell_type": "markdown",
   "metadata": {},
   "source": []
  }
 ],
 "metadata": {
  "kernelspec": {
   "display_name": "Python 3 (ipykernel)",
   "language": "python",
   "name": "python3"
  },
  "language_info": {
   "codemirror_mode": {
    "name": "ipython",
    "version": 3
   },
   "file_extension": ".py",
   "mimetype": "text/x-python",
   "name": "python",
   "nbconvert_exporter": "python",
   "pygments_lexer": "ipython3",
   "version": "3.11.0"
  }
 },
 "nbformat": 4,
 "nbformat_minor": 1
}
